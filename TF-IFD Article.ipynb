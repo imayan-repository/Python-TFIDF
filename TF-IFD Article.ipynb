{
  "cells": [
    {
      "metadata": {
        "trusted": true
      },
      "cell_type": "code",
      "source": "import pandas as pd\nimport numpy as np\nimport matplotlib.pyplot as plt\nimport math",
      "execution_count": 131,
      "outputs": []
    },
    {
      "metadata": {
        "trusted": true
      },
      "cell_type": "code",
      "source": "SentanceA = \"The text process article contains information on TFIDF\"\nSentenceB = \"The stopwords article contains information on words removal\"\ncounts = dict()\ns1 = dict()\ns2 = dict()\nresult = dict()",
      "execution_count": 132,
      "outputs": []
    },
    {
      "metadata": {
        "trusted": true
      },
      "cell_type": "code",
      "source": "def termFrequency(docA, docB):  \n    #Split the sentence into words\n    sentanceone = docA.lower().split()\n    sentancetwo = docB.lower().split()\n    noofdocuments = 2\n    mergeddocument = sentanceone + sentancetwo\n    for word in mergeddocument:\n        if word in counts:\n            counts[word] += 1\n        else:\n            counts[word] = 1\n    for word, values in counts.items():\n        counts[word] = round(math.log10(noofdocuments/values),2)\n        \n    for word in sentanceone:\n        if word in s1:\n            s1[word] += 1\n        else:\n            s1[word] = 1       \n    for word in sentancetwo:\n        if word in s2:\n            s2[word] += 1\n        else:\n            s2[word] = 1 \n            \n    for (x,y), (a,b) in zip(s1.items(), s2.items()):\n        if x not in s2:\n            result[x] = y * s1[x]  \n            print(\"{0}\".format(x),  end=\" \")\n    for (x,y), (a,b) in zip(s1.items(), s2.items()):\n        if a not in s1:\n            result[a] = b * s2[a]\n            print(\"{0}\".format(a),  end=\" \")\n            ",
      "execution_count": 133,
      "outputs": []
    },
    {
      "metadata": {
        "trusted": true
      },
      "cell_type": "code",
      "source": "valueA = termFrequency(SentanceA,SentenceB)",
      "execution_count": 134,
      "outputs": [
        {
          "output_type": "stream",
          "text": "text process tfidf stopwords words removal ",
          "name": "stdout"
        }
      ]
    },
    {
      "metadata": {
        "trusted": true
      },
      "cell_type": "code",
      "source": "",
      "execution_count": null,
      "outputs": []
    }
  ],
  "metadata": {
    "kernelspec": {
      "name": "python36",
      "display_name": "Python 3.6",
      "language": "python"
    },
    "language_info": {
      "mimetype": "text/x-python",
      "nbconvert_exporter": "python",
      "name": "python",
      "pygments_lexer": "ipython3",
      "version": "3.6.6",
      "file_extension": ".py",
      "codemirror_mode": {
        "version": 3,
        "name": "ipython"
      }
    }
  },
  "nbformat": 4,
  "nbformat_minor": 2
}